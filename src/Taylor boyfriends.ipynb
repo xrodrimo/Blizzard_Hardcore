{
 "cells": [
  {
   "cell_type": "code",
   "execution_count": 8,
   "metadata": {},
   "outputs": [],
   "source": [
    "from selenium import webdriver\n",
    "from selenium.webdriver.common.by import By\n",
    "import requests\n",
    "from bs4 import BeautifulSoup # pip install beautifulsoup4\n",
    "import pandas as pd\n",
    "import requests\n",
    "import re"
   ]
  },
  {
   "cell_type": "code",
   "execution_count": 18,
   "metadata": {},
   "outputs": [],
   "source": [
    "url = \"https://www.prestigeonline.com/sg/lifestyle/culture-plus-entertainment/taylor-swifts-boyfriends-meet-all-the-megastars-famous-exes/#:~:text=Out%20of%20Taylor%20Swift's%20exes,has%2012%20publicly%20known%20exes.\"\n",
    "\n",
    " # Create a WebDriver (make sure to provide the correct path to your driver executable)\n",
    "driver = webdriver.Chrome()\n",
    "\n",
    "# Navigate to the URL\n",
    "driver.get(url)\n",
    "\n",
    "# Find all <h3> elements on the page\n",
    "h3_elements = driver.find_elements(By.TAG_NAME, 'h3')\n",
    "\n",
    "# Create a list to store the text content of <h3> elements\n",
    "h3_texts = []\n",
    "\n",
    "# Extract and append the text content of each <h3> element to the list\n",
    "for h3 in h3_elements:\n",
    "    h3_texts.append(h3.text)\n",
    "\n",
    "# Close the WebDriver\n",
    "driver.quit()\n",
    "\n",
    "numbers_list = []\n",
    "names_list = []\n",
    "\n",
    "# Regex patterns\n",
    "numbers_pattern = re.compile(r'(\\d{4}(?:-\\d{4})?):')\n",
    "names_pattern = re.compile(r'(\\d{4}(?:-\\d{4})?):\\s*([\\w\\s]+)(?:\\s*\\(.+?\\))?')\n",
    "\n",
    "# Extract numbers and names using the regular expressions\n",
    "for item in h3_texts:\n",
    "    numbers_match = numbers_pattern.match(item)\n",
    "    names_match = names_pattern.match(item)\n",
    "\n",
    "# I have created 2 if one to extract the name and 1 for the numbers, easy es always better.\n",
    "    if numbers_match:\n",
    "        numbers_list.append(numbers_match.group(1))\n",
    "    else:\n",
    "        numbers_list.append(None)\n",
    "\n",
    "    if names_match:\n",
    "        names_list.append(names_match.group(2).strip())\n",
    "    else:\n",
    "        names_list.append(None)\n",
    "        \n",
    "processed_numbers_list = [number.split('-')[0] for number in numbers_list]\n",
    "\n",
    "df = pd.DataFrame({'album_release': processed_numbers_list, 'Boyfriend': names_list})\n",
    "\n",
    "df.to_csv(\"../data/boyfriends.csv\", index=False)"
   ]
  }
 ],
 "metadata": {
  "kernelspec": {
   "display_name": "ironhack",
   "language": "python",
   "name": "ironhack"
  },
  "language_info": {
   "codemirror_mode": {
    "name": "ipython",
    "version": 3
   },
   "file_extension": ".py",
   "mimetype": "text/x-python",
   "name": "python",
   "nbconvert_exporter": "python",
   "pygments_lexer": "ipython3",
   "version": "3.11.5"
  }
 },
 "nbformat": 4,
 "nbformat_minor": 2
}
